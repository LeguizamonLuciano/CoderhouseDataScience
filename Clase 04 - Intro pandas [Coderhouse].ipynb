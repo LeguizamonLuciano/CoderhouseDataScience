{
 "cells": [
  {
   "cell_type": "code",
   "execution_count": 1,
   "metadata": {},
   "outputs": [],
   "source": [
    "import pandas as pd\n",
    "import numpy as np"
   ]
  },
  {
   "cell_type": "code",
   "execution_count": 2,
   "metadata": {},
   "outputs": [
    {
     "data": {
      "text/html": [
       "<div>\n",
       "<style scoped>\n",
       "    .dataframe tbody tr th:only-of-type {\n",
       "        vertical-align: middle;\n",
       "    }\n",
       "\n",
       "    .dataframe tbody tr th {\n",
       "        vertical-align: top;\n",
       "    }\n",
       "\n",
       "    .dataframe thead th {\n",
       "        text-align: right;\n",
       "    }\n",
       "</style>\n",
       "<table border=\"1\" class=\"dataframe\">\n",
       "  <thead>\n",
       "    <tr style=\"text-align: right;\">\n",
       "      <th></th>\n",
       "      <th>Year</th>\n",
       "      <th>Jan</th>\n",
       "      <th>Feb</th>\n",
       "      <th>Mar</th>\n",
       "      <th>Apr</th>\n",
       "      <th>May</th>\n",
       "      <th>Jun</th>\n",
       "      <th>Jul</th>\n",
       "      <th>Aug</th>\n",
       "      <th>Sep</th>\n",
       "      <th>Oct</th>\n",
       "      <th>Nov</th>\n",
       "      <th>Dec</th>\n",
       "    </tr>\n",
       "  </thead>\n",
       "  <tbody>\n",
       "    <tr>\n",
       "      <th>0</th>\n",
       "      <td>1965</td>\n",
       "      <td>0.029</td>\n",
       "      <td>0.069</td>\n",
       "      <td>0.00</td>\n",
       "      <td>21.667</td>\n",
       "      <td>17.859</td>\n",
       "      <td>102.111</td>\n",
       "      <td>606.071</td>\n",
       "      <td>402.521</td>\n",
       "      <td>69.511</td>\n",
       "      <td>5.249</td>\n",
       "      <td>16.232</td>\n",
       "      <td>22.075</td>\n",
       "    </tr>\n",
       "    <tr>\n",
       "      <th>1</th>\n",
       "      <td>1966</td>\n",
       "      <td>0.905</td>\n",
       "      <td>0.000</td>\n",
       "      <td>0.00</td>\n",
       "      <td>2.981</td>\n",
       "      <td>63.008</td>\n",
       "      <td>94.088</td>\n",
       "      <td>481.942</td>\n",
       "      <td>59.386</td>\n",
       "      <td>150.624</td>\n",
       "      <td>1.308</td>\n",
       "      <td>41.214</td>\n",
       "      <td>4.132</td>\n",
       "    </tr>\n",
       "    <tr>\n",
       "      <th>2</th>\n",
       "      <td>1967</td>\n",
       "      <td>0.248</td>\n",
       "      <td>3.390</td>\n",
       "      <td>1.32</td>\n",
       "      <td>13.482</td>\n",
       "      <td>11.116</td>\n",
       "      <td>251.314</td>\n",
       "      <td>780.006</td>\n",
       "      <td>181.069</td>\n",
       "      <td>183.757</td>\n",
       "      <td>50.404</td>\n",
       "      <td>8.393</td>\n",
       "      <td>37.685</td>\n",
       "    </tr>\n",
       "  </tbody>\n",
       "</table>\n",
       "</div>"
      ],
      "text/plain": [
       "   Year    Jan    Feb   Mar     Apr     May      Jun      Jul      Aug  \\\n",
       "0  1965  0.029  0.069  0.00  21.667  17.859  102.111  606.071  402.521   \n",
       "1  1966  0.905  0.000  0.00   2.981  63.008   94.088  481.942   59.386   \n",
       "2  1967  0.248  3.390  1.32  13.482  11.116  251.314  780.006  181.069   \n",
       "\n",
       "       Sep     Oct     Nov     Dec  \n",
       "0   69.511   5.249  16.232  22.075  \n",
       "1  150.624   1.308  41.214   4.132  \n",
       "2  183.757  50.404   8.393  37.685  "
      ]
     },
     "execution_count": 2,
     "metadata": {},
     "output_type": "execute_result"
    }
   ],
   "source": [
    "df = pd.read_csv(r'C:\\Users\\Luciano\\Desktop\\Práctica coderhouse\\pune_1965_to_2002.csv')\n",
    "df.head(3)"
   ]
  },
  {
   "cell_type": "code",
   "execution_count": 4,
   "metadata": {},
   "outputs": [
    {
     "data": {
      "text/plain": [
       "[1965,\n",
       " 1966,\n",
       " 1967,\n",
       " 1968,\n",
       " 1969,\n",
       " 1970,\n",
       " 1971,\n",
       " 1972,\n",
       " 1973,\n",
       " 1974,\n",
       " 1975,\n",
       " 1976,\n",
       " 1977,\n",
       " 1978,\n",
       " 1979,\n",
       " 1980,\n",
       " 1981,\n",
       " 1982,\n",
       " 1983,\n",
       " 1984,\n",
       " 1985,\n",
       " 1986,\n",
       " 1987,\n",
       " 1988,\n",
       " 1989,\n",
       " 1990,\n",
       " 1991,\n",
       " 1992,\n",
       " 1993,\n",
       " 1994,\n",
       " 1995,\n",
       " 1996,\n",
       " 1997,\n",
       " 1998,\n",
       " 1999,\n",
       " 2000,\n",
       " 2001,\n",
       " 2002]"
      ]
     },
     "execution_count": 4,
     "metadata": {},
     "output_type": "execute_result"
    }
   ],
   "source": [
    "columna_year = list(df.Year)\n",
    "columna_year"
   ]
  },
  {
   "cell_type": "code",
   "execution_count": 7,
   "metadata": {},
   "outputs": [
    {
     "data": {
      "text/plain": [
       "Index(['Jan', 'Feb', 'Mar', 'Apr', 'May', 'Jun', 'Jul', 'Aug', 'Sep', 'Oct',\n",
       "       'Nov', 'Dec'],\n",
       "      dtype='object')"
      ]
     },
     "execution_count": 7,
     "metadata": {},
     "output_type": "execute_result"
    }
   ],
   "source": [
    "columnas_sin_year = df.columns[1:]\n",
    "columnas_sin_year"
   ]
  },
  {
   "cell_type": "code",
   "execution_count": 11,
   "metadata": {},
   "outputs": [],
   "source": [
    "todos_los_valores_sin_year = df.values[:,1:]"
   ]
  },
  {
   "cell_type": "code",
   "execution_count": 13,
   "metadata": {},
   "outputs": [
    {
     "data": {
      "text/html": [
       "<div>\n",
       "<style scoped>\n",
       "    .dataframe tbody tr th:only-of-type {\n",
       "        vertical-align: middle;\n",
       "    }\n",
       "\n",
       "    .dataframe tbody tr th {\n",
       "        vertical-align: top;\n",
       "    }\n",
       "\n",
       "    .dataframe thead th {\n",
       "        text-align: right;\n",
       "    }\n",
       "</style>\n",
       "<table border=\"1\" class=\"dataframe\">\n",
       "  <thead>\n",
       "    <tr style=\"text-align: right;\">\n",
       "      <th></th>\n",
       "      <th>Jan</th>\n",
       "      <th>Feb</th>\n",
       "      <th>Mar</th>\n",
       "      <th>Apr</th>\n",
       "      <th>May</th>\n",
       "      <th>Jun</th>\n",
       "      <th>Jul</th>\n",
       "      <th>Aug</th>\n",
       "      <th>Sep</th>\n",
       "      <th>Oct</th>\n",
       "      <th>Nov</th>\n",
       "      <th>Dec</th>\n",
       "    </tr>\n",
       "  </thead>\n",
       "  <tbody>\n",
       "    <tr>\n",
       "      <th>1965</th>\n",
       "      <td>0.029</td>\n",
       "      <td>0.069</td>\n",
       "      <td>0.00</td>\n",
       "      <td>21.667</td>\n",
       "      <td>17.859</td>\n",
       "      <td>102.111</td>\n",
       "      <td>606.071</td>\n",
       "      <td>402.521</td>\n",
       "      <td>69.511</td>\n",
       "      <td>5.249</td>\n",
       "      <td>16.232</td>\n",
       "      <td>22.075</td>\n",
       "    </tr>\n",
       "    <tr>\n",
       "      <th>1966</th>\n",
       "      <td>0.905</td>\n",
       "      <td>0.000</td>\n",
       "      <td>0.00</td>\n",
       "      <td>2.981</td>\n",
       "      <td>63.008</td>\n",
       "      <td>94.088</td>\n",
       "      <td>481.942</td>\n",
       "      <td>59.386</td>\n",
       "      <td>150.624</td>\n",
       "      <td>1.308</td>\n",
       "      <td>41.214</td>\n",
       "      <td>4.132</td>\n",
       "    </tr>\n",
       "    <tr>\n",
       "      <th>1967</th>\n",
       "      <td>0.248</td>\n",
       "      <td>3.390</td>\n",
       "      <td>1.32</td>\n",
       "      <td>13.482</td>\n",
       "      <td>11.116</td>\n",
       "      <td>251.314</td>\n",
       "      <td>780.006</td>\n",
       "      <td>181.069</td>\n",
       "      <td>183.757</td>\n",
       "      <td>50.404</td>\n",
       "      <td>8.393</td>\n",
       "      <td>37.685</td>\n",
       "    </tr>\n",
       "  </tbody>\n",
       "</table>\n",
       "</div>"
      ],
      "text/plain": [
       "        Jan    Feb   Mar     Apr     May      Jun      Jul      Aug      Sep  \\\n",
       "1965  0.029  0.069  0.00  21.667  17.859  102.111  606.071  402.521   69.511   \n",
       "1966  0.905  0.000  0.00   2.981  63.008   94.088  481.942   59.386  150.624   \n",
       "1967  0.248  3.390  1.32  13.482  11.116  251.314  780.006  181.069  183.757   \n",
       "\n",
       "         Oct     Nov     Dec  \n",
       "1965   5.249  16.232  22.075  \n",
       "1966   1.308  41.214   4.132  \n",
       "1967  50.404   8.393  37.685  "
      ]
     },
     "execution_count": 13,
     "metadata": {},
     "output_type": "execute_result"
    }
   ],
   "source": [
    "df_lluvias = pd.DataFrame(todos_los_valores_sin_year,index = columna_year,columns = columnas_sin_year)\n",
    "df_lluvias.head(3)"
   ]
  },
  {
   "cell_type": "code",
   "execution_count": 14,
   "metadata": {},
   "outputs": [
    {
     "data": {
      "text/plain": [
       "Jan       11.186\n",
       "Feb       41.843\n",
       "Mar       63.733\n",
       "Apr      470.487\n",
       "May      952.272\n",
       "Jun    12809.663\n",
       "Jul    16340.395\n",
       "Aug    10529.357\n",
       "Sep     7642.245\n",
       "Oct     2783.320\n",
       "Nov      958.492\n",
       "Dec      230.646\n",
       "dtype: float64"
      ]
     },
     "execution_count": 14,
     "metadata": {},
     "output_type": "execute_result"
    }
   ],
   "source": [
    "df_lluvias.sum()"
   ]
  },
  {
   "cell_type": "code",
   "execution_count": 16,
   "metadata": {},
   "outputs": [
    {
     "data": {
      "text/plain": [
       "1965    105.282833\n",
       "1966     74.965667\n",
       "1967    126.848667\n",
       "1968     90.519750\n",
       "1969    144.918500\n",
       "1970    106.125583\n",
       "1971     98.051000\n",
       "1972     59.206250\n",
       "1973    130.839417\n",
       "1974    118.823000\n",
       "1975    148.153167\n",
       "1976    161.763917\n",
       "1977    100.179500\n",
       "1978     97.381917\n",
       "1979    147.432250\n",
       "1980    105.682083\n",
       "1981    130.230083\n",
       "1982     78.590583\n",
       "1983    134.745667\n",
       "1984    128.246750\n",
       "1985    101.237667\n",
       "1986    105.664083\n",
       "1987     99.833250\n",
       "1988    151.887417\n",
       "1989    116.668667\n",
       "1990    147.191167\n",
       "1991    124.771333\n",
       "1992    110.323583\n",
       "1993    100.854333\n",
       "1994    165.640750\n",
       "1995    100.755667\n",
       "1996    135.944250\n",
       "1997    153.736667\n",
       "1998    133.603583\n",
       "1999    102.973583\n",
       "2000     91.171833\n",
       "2001     87.152083\n",
       "2002     85.406750\n",
       "dtype: float64"
      ]
     },
     "execution_count": 16,
     "metadata": {},
     "output_type": "execute_result"
    }
   ],
   "source": [
    "df_lluvias.mean(axis='columns')"
   ]
  },
  {
   "cell_type": "code",
   "execution_count": 18,
   "metadata": {},
   "outputs": [
    {
     "data": {
      "text/html": [
       "<div>\n",
       "<style scoped>\n",
       "    .dataframe tbody tr th:only-of-type {\n",
       "        vertical-align: middle;\n",
       "    }\n",
       "\n",
       "    .dataframe tbody tr th {\n",
       "        vertical-align: top;\n",
       "    }\n",
       "\n",
       "    .dataframe thead th {\n",
       "        text-align: right;\n",
       "    }\n",
       "</style>\n",
       "<table border=\"1\" class=\"dataframe\">\n",
       "  <thead>\n",
       "    <tr style=\"text-align: right;\">\n",
       "      <th></th>\n",
       "      <th>Jan</th>\n",
       "      <th>Feb</th>\n",
       "      <th>Mar</th>\n",
       "      <th>Apr</th>\n",
       "      <th>May</th>\n",
       "      <th>Jun</th>\n",
       "      <th>Jul</th>\n",
       "      <th>Aug</th>\n",
       "      <th>Sep</th>\n",
       "      <th>Oct</th>\n",
       "      <th>Nov</th>\n",
       "      <th>Dec</th>\n",
       "    </tr>\n",
       "  </thead>\n",
       "  <tbody>\n",
       "    <tr>\n",
       "      <th>count</th>\n",
       "      <td>38.0</td>\n",
       "      <td>38.0</td>\n",
       "      <td>38.0</td>\n",
       "      <td>38.0</td>\n",
       "      <td>38.0</td>\n",
       "      <td>38.0</td>\n",
       "      <td>38.0</td>\n",
       "      <td>38.0</td>\n",
       "      <td>38.0</td>\n",
       "      <td>38.0</td>\n",
       "      <td>38.0</td>\n",
       "      <td>38.0</td>\n",
       "    </tr>\n",
       "    <tr>\n",
       "      <th>mean</th>\n",
       "      <td>0.3</td>\n",
       "      <td>1.1</td>\n",
       "      <td>1.7</td>\n",
       "      <td>12.4</td>\n",
       "      <td>25.1</td>\n",
       "      <td>337.1</td>\n",
       "      <td>430.0</td>\n",
       "      <td>277.1</td>\n",
       "      <td>201.1</td>\n",
       "      <td>73.2</td>\n",
       "      <td>25.2</td>\n",
       "      <td>6.1</td>\n",
       "    </tr>\n",
       "    <tr>\n",
       "      <th>std</th>\n",
       "      <td>0.6</td>\n",
       "      <td>1.7</td>\n",
       "      <td>2.5</td>\n",
       "      <td>13.7</td>\n",
       "      <td>22.5</td>\n",
       "      <td>171.7</td>\n",
       "      <td>178.0</td>\n",
       "      <td>132.2</td>\n",
       "      <td>123.7</td>\n",
       "      <td>62.9</td>\n",
       "      <td>31.8</td>\n",
       "      <td>11.7</td>\n",
       "    </tr>\n",
       "    <tr>\n",
       "      <th>min</th>\n",
       "      <td>0.0</td>\n",
       "      <td>0.0</td>\n",
       "      <td>0.0</td>\n",
       "      <td>0.1</td>\n",
       "      <td>0.5</td>\n",
       "      <td>94.1</td>\n",
       "      <td>84.9</td>\n",
       "      <td>59.4</td>\n",
       "      <td>44.6</td>\n",
       "      <td>1.1</td>\n",
       "      <td>0.3</td>\n",
       "      <td>0.0</td>\n",
       "    </tr>\n",
       "    <tr>\n",
       "      <th>25%</th>\n",
       "      <td>0.0</td>\n",
       "      <td>0.0</td>\n",
       "      <td>0.0</td>\n",
       "      <td>2.3</td>\n",
       "      <td>7.0</td>\n",
       "      <td>226.2</td>\n",
       "      <td>322.5</td>\n",
       "      <td>183.2</td>\n",
       "      <td>105.9</td>\n",
       "      <td>22.0</td>\n",
       "      <td>3.7</td>\n",
       "      <td>0.0</td>\n",
       "    </tr>\n",
       "    <tr>\n",
       "      <th>50%</th>\n",
       "      <td>0.0</td>\n",
       "      <td>0.2</td>\n",
       "      <td>0.6</td>\n",
       "      <td>5.5</td>\n",
       "      <td>18.1</td>\n",
       "      <td>312.1</td>\n",
       "      <td>415.1</td>\n",
       "      <td>243.2</td>\n",
       "      <td>181.0</td>\n",
       "      <td>49.8</td>\n",
       "      <td>14.7</td>\n",
       "      <td>0.5</td>\n",
       "    </tr>\n",
       "    <tr>\n",
       "      <th>75%</th>\n",
       "      <td>0.2</td>\n",
       "      <td>1.9</td>\n",
       "      <td>2.1</td>\n",
       "      <td>19.8</td>\n",
       "      <td>33.1</td>\n",
       "      <td>412.6</td>\n",
       "      <td>555.3</td>\n",
       "      <td>401.2</td>\n",
       "      <td>242.4</td>\n",
       "      <td>115.7</td>\n",
       "      <td>37.0</td>\n",
       "      <td>4.2</td>\n",
       "    </tr>\n",
       "    <tr>\n",
       "      <th>max</th>\n",
       "      <td>3.0</td>\n",
       "      <td>8.4</td>\n",
       "      <td>9.6</td>\n",
       "      <td>53.3</td>\n",
       "      <td>80.5</td>\n",
       "      <td>773.7</td>\n",
       "      <td>780.0</td>\n",
       "      <td>541.6</td>\n",
       "      <td>613.5</td>\n",
       "      <td>225.9</td>\n",
       "      <td>122.8</td>\n",
       "      <td>37.7</td>\n",
       "    </tr>\n",
       "  </tbody>\n",
       "</table>\n",
       "</div>"
      ],
      "text/plain": [
       "        Jan   Feb   Mar   Apr   May    Jun    Jul    Aug    Sep    Oct    Nov  \\\n",
       "count  38.0  38.0  38.0  38.0  38.0   38.0   38.0   38.0   38.0   38.0   38.0   \n",
       "mean    0.3   1.1   1.7  12.4  25.1  337.1  430.0  277.1  201.1   73.2   25.2   \n",
       "std     0.6   1.7   2.5  13.7  22.5  171.7  178.0  132.2  123.7   62.9   31.8   \n",
       "min     0.0   0.0   0.0   0.1   0.5   94.1   84.9   59.4   44.6    1.1    0.3   \n",
       "25%     0.0   0.0   0.0   2.3   7.0  226.2  322.5  183.2  105.9   22.0    3.7   \n",
       "50%     0.0   0.2   0.6   5.5  18.1  312.1  415.1  243.2  181.0   49.8   14.7   \n",
       "75%     0.2   1.9   2.1  19.8  33.1  412.6  555.3  401.2  242.4  115.7   37.0   \n",
       "max     3.0   8.4   9.6  53.3  80.5  773.7  780.0  541.6  613.5  225.9  122.8   \n",
       "\n",
       "        Dec  \n",
       "count  38.0  \n",
       "mean    6.1  \n",
       "std    11.7  \n",
       "min     0.0  \n",
       "25%     0.0  \n",
       "50%     0.5  \n",
       "75%     4.2  \n",
       "max    37.7  "
      ]
     },
     "execution_count": 18,
     "metadata": {},
     "output_type": "execute_result"
    }
   ],
   "source": [
    "df_lluvias.describe().round(1)"
   ]
  },
  {
   "cell_type": "code",
   "execution_count": 19,
   "metadata": {},
   "outputs": [
    {
     "data": {
      "text/html": [
       "<div>\n",
       "<style scoped>\n",
       "    .dataframe tbody tr th:only-of-type {\n",
       "        vertical-align: middle;\n",
       "    }\n",
       "\n",
       "    .dataframe tbody tr th {\n",
       "        vertical-align: top;\n",
       "    }\n",
       "\n",
       "    .dataframe thead th {\n",
       "        text-align: right;\n",
       "    }\n",
       "</style>\n",
       "<table border=\"1\" class=\"dataframe\">\n",
       "  <thead>\n",
       "    <tr style=\"text-align: right;\">\n",
       "      <th></th>\n",
       "      <th>1965</th>\n",
       "      <th>1966</th>\n",
       "      <th>1967</th>\n",
       "      <th>1968</th>\n",
       "      <th>1969</th>\n",
       "      <th>1970</th>\n",
       "      <th>1971</th>\n",
       "      <th>1972</th>\n",
       "      <th>1973</th>\n",
       "      <th>1974</th>\n",
       "      <th>...</th>\n",
       "      <th>1993</th>\n",
       "      <th>1994</th>\n",
       "      <th>1995</th>\n",
       "      <th>1996</th>\n",
       "      <th>1997</th>\n",
       "      <th>1998</th>\n",
       "      <th>1999</th>\n",
       "      <th>2000</th>\n",
       "      <th>2001</th>\n",
       "      <th>2002</th>\n",
       "    </tr>\n",
       "  </thead>\n",
       "  <tbody>\n",
       "    <tr>\n",
       "      <th>count</th>\n",
       "      <td>12.0</td>\n",
       "      <td>12.0</td>\n",
       "      <td>12.0</td>\n",
       "      <td>12.0</td>\n",
       "      <td>12.0</td>\n",
       "      <td>12.0</td>\n",
       "      <td>12.0</td>\n",
       "      <td>12.0</td>\n",
       "      <td>12.0</td>\n",
       "      <td>12.0</td>\n",
       "      <td>...</td>\n",
       "      <td>12.0</td>\n",
       "      <td>12.0</td>\n",
       "      <td>12.0</td>\n",
       "      <td>12.0</td>\n",
       "      <td>12.0</td>\n",
       "      <td>12.0</td>\n",
       "      <td>12.0</td>\n",
       "      <td>12.0</td>\n",
       "      <td>12.0</td>\n",
       "      <td>12.0</td>\n",
       "    </tr>\n",
       "    <tr>\n",
       "      <th>mean</th>\n",
       "      <td>105.3</td>\n",
       "      <td>75.0</td>\n",
       "      <td>126.8</td>\n",
       "      <td>90.5</td>\n",
       "      <td>144.9</td>\n",
       "      <td>106.1</td>\n",
       "      <td>98.1</td>\n",
       "      <td>59.2</td>\n",
       "      <td>130.8</td>\n",
       "      <td>118.8</td>\n",
       "      <td>...</td>\n",
       "      <td>100.9</td>\n",
       "      <td>165.6</td>\n",
       "      <td>100.8</td>\n",
       "      <td>135.9</td>\n",
       "      <td>153.7</td>\n",
       "      <td>133.6</td>\n",
       "      <td>103.0</td>\n",
       "      <td>91.2</td>\n",
       "      <td>87.2</td>\n",
       "      <td>85.4</td>\n",
       "    </tr>\n",
       "    <tr>\n",
       "      <th>std</th>\n",
       "      <td>193.8</td>\n",
       "      <td>136.7</td>\n",
       "      <td>223.5</td>\n",
       "      <td>121.5</td>\n",
       "      <td>226.5</td>\n",
       "      <td>130.8</td>\n",
       "      <td>139.3</td>\n",
       "      <td>100.1</td>\n",
       "      <td>209.3</td>\n",
       "      <td>148.0</td>\n",
       "      <td>...</td>\n",
       "      <td>141.6</td>\n",
       "      <td>272.2</td>\n",
       "      <td>154.0</td>\n",
       "      <td>194.0</td>\n",
       "      <td>243.5</td>\n",
       "      <td>189.4</td>\n",
       "      <td>140.4</td>\n",
       "      <td>128.4</td>\n",
       "      <td>108.0</td>\n",
       "      <td>152.2</td>\n",
       "    </tr>\n",
       "    <tr>\n",
       "      <th>min</th>\n",
       "      <td>0.0</td>\n",
       "      <td>0.0</td>\n",
       "      <td>0.2</td>\n",
       "      <td>0.3</td>\n",
       "      <td>0.2</td>\n",
       "      <td>0.0</td>\n",
       "      <td>0.0</td>\n",
       "      <td>0.0</td>\n",
       "      <td>0.0</td>\n",
       "      <td>0.0</td>\n",
       "      <td>...</td>\n",
       "      <td>0.0</td>\n",
       "      <td>0.0</td>\n",
       "      <td>0.0</td>\n",
       "      <td>0.0</td>\n",
       "      <td>0.0</td>\n",
       "      <td>0.0</td>\n",
       "      <td>0.0</td>\n",
       "      <td>0.0</td>\n",
       "      <td>0.0</td>\n",
       "      <td>0.0</td>\n",
       "    </tr>\n",
       "    <tr>\n",
       "      <th>25%</th>\n",
       "      <td>4.0</td>\n",
       "      <td>1.2</td>\n",
       "      <td>7.1</td>\n",
       "      <td>2.8</td>\n",
       "      <td>2.4</td>\n",
       "      <td>0.1</td>\n",
       "      <td>0.0</td>\n",
       "      <td>0.1</td>\n",
       "      <td>2.3</td>\n",
       "      <td>0.2</td>\n",
       "      <td>...</td>\n",
       "      <td>1.8</td>\n",
       "      <td>2.0</td>\n",
       "      <td>1.5</td>\n",
       "      <td>2.1</td>\n",
       "      <td>3.8</td>\n",
       "      <td>0.3</td>\n",
       "      <td>0.2</td>\n",
       "      <td>0.9</td>\n",
       "      <td>1.2</td>\n",
       "      <td>0.6</td>\n",
       "    </tr>\n",
       "    <tr>\n",
       "      <th>50%</th>\n",
       "      <td>19.8</td>\n",
       "      <td>22.7</td>\n",
       "      <td>25.6</td>\n",
       "      <td>23.3</td>\n",
       "      <td>15.1</td>\n",
       "      <td>42.1</td>\n",
       "      <td>20.1</td>\n",
       "      <td>12.5</td>\n",
       "      <td>10.2</td>\n",
       "      <td>34.0</td>\n",
       "      <td>...</td>\n",
       "      <td>20.7</td>\n",
       "      <td>25.1</td>\n",
       "      <td>25.0</td>\n",
       "      <td>9.3</td>\n",
       "      <td>27.5</td>\n",
       "      <td>34.3</td>\n",
       "      <td>18.6</td>\n",
       "      <td>20.8</td>\n",
       "      <td>15.7</td>\n",
       "      <td>20.0</td>\n",
       "    </tr>\n",
       "    <tr>\n",
       "      <th>75%</th>\n",
       "      <td>77.7</td>\n",
       "      <td>70.8</td>\n",
       "      <td>181.7</td>\n",
       "      <td>174.0</td>\n",
       "      <td>252.5</td>\n",
       "      <td>189.8</td>\n",
       "      <td>163.2</td>\n",
       "      <td>81.7</td>\n",
       "      <td>201.6</td>\n",
       "      <td>213.8</td>\n",
       "      <td>...</td>\n",
       "      <td>169.2</td>\n",
       "      <td>145.0</td>\n",
       "      <td>126.5</td>\n",
       "      <td>205.9</td>\n",
       "      <td>154.8</td>\n",
       "      <td>239.8</td>\n",
       "      <td>191.7</td>\n",
       "      <td>165.6</td>\n",
       "      <td>165.9</td>\n",
       "      <td>79.9</td>\n",
       "    </tr>\n",
       "    <tr>\n",
       "      <th>max</th>\n",
       "      <td>606.1</td>\n",
       "      <td>481.9</td>\n",
       "      <td>780.0</td>\n",
       "      <td>379.4</td>\n",
       "      <td>678.4</td>\n",
       "      <td>330.5</td>\n",
       "      <td>372.7</td>\n",
       "      <td>338.5</td>\n",
       "      <td>696.0</td>\n",
       "      <td>405.4</td>\n",
       "      <td>...</td>\n",
       "      <td>450.1</td>\n",
       "      <td>749.0</td>\n",
       "      <td>501.5</td>\n",
       "      <td>558.6</td>\n",
       "      <td>673.8</td>\n",
       "      <td>590.7</td>\n",
       "      <td>415.5</td>\n",
       "      <td>371.3</td>\n",
       "      <td>279.5</td>\n",
       "      <td>509.1</td>\n",
       "    </tr>\n",
       "  </tbody>\n",
       "</table>\n",
       "<p>8 rows × 38 columns</p>\n",
       "</div>"
      ],
      "text/plain": [
       "        1965   1966   1967   1968   1969   1970   1971   1972   1973   1974  \\\n",
       "count   12.0   12.0   12.0   12.0   12.0   12.0   12.0   12.0   12.0   12.0   \n",
       "mean   105.3   75.0  126.8   90.5  144.9  106.1   98.1   59.2  130.8  118.8   \n",
       "std    193.8  136.7  223.5  121.5  226.5  130.8  139.3  100.1  209.3  148.0   \n",
       "min      0.0    0.0    0.2    0.3    0.2    0.0    0.0    0.0    0.0    0.0   \n",
       "25%      4.0    1.2    7.1    2.8    2.4    0.1    0.0    0.1    2.3    0.2   \n",
       "50%     19.8   22.7   25.6   23.3   15.1   42.1   20.1   12.5   10.2   34.0   \n",
       "75%     77.7   70.8  181.7  174.0  252.5  189.8  163.2   81.7  201.6  213.8   \n",
       "max    606.1  481.9  780.0  379.4  678.4  330.5  372.7  338.5  696.0  405.4   \n",
       "\n",
       "       ...   1993   1994   1995   1996   1997   1998   1999   2000   2001  \\\n",
       "count  ...   12.0   12.0   12.0   12.0   12.0   12.0   12.0   12.0   12.0   \n",
       "mean   ...  100.9  165.6  100.8  135.9  153.7  133.6  103.0   91.2   87.2   \n",
       "std    ...  141.6  272.2  154.0  194.0  243.5  189.4  140.4  128.4  108.0   \n",
       "min    ...    0.0    0.0    0.0    0.0    0.0    0.0    0.0    0.0    0.0   \n",
       "25%    ...    1.8    2.0    1.5    2.1    3.8    0.3    0.2    0.9    1.2   \n",
       "50%    ...   20.7   25.1   25.0    9.3   27.5   34.3   18.6   20.8   15.7   \n",
       "75%    ...  169.2  145.0  126.5  205.9  154.8  239.8  191.7  165.6  165.9   \n",
       "max    ...  450.1  749.0  501.5  558.6  673.8  590.7  415.5  371.3  279.5   \n",
       "\n",
       "        2002  \n",
       "count   12.0  \n",
       "mean    85.4  \n",
       "std    152.2  \n",
       "min      0.0  \n",
       "25%      0.6  \n",
       "50%     20.0  \n",
       "75%     79.9  \n",
       "max    509.1  \n",
       "\n",
       "[8 rows x 38 columns]"
      ]
     },
     "execution_count": 19,
     "metadata": {},
     "output_type": "execute_result"
    }
   ],
   "source": [
    "df_lluvias.T.describe().round(1)"
   ]
  },
  {
   "cell_type": "markdown",
   "metadata": {},
   "source": [
    "### Operaciones sobre strings"
   ]
  },
  {
   "cell_type": "code",
   "execution_count": 22,
   "metadata": {
    "scrolled": true
   },
   "outputs": [
    {
     "data": {
      "text/html": [
       "<div>\n",
       "<style scoped>\n",
       "    .dataframe tbody tr th:only-of-type {\n",
       "        vertical-align: middle;\n",
       "    }\n",
       "\n",
       "    .dataframe tbody tr th {\n",
       "        vertical-align: top;\n",
       "    }\n",
       "\n",
       "    .dataframe thead th {\n",
       "        text-align: right;\n",
       "    }\n",
       "</style>\n",
       "<table border=\"1\" class=\"dataframe\">\n",
       "  <thead>\n",
       "    <tr style=\"text-align: right;\">\n",
       "      <th></th>\n",
       "      <th>Unnamed: 0</th>\n",
       "      <th>S.No.</th>\n",
       "      <th>start</th>\n",
       "      <th>end</th>\n",
       "      <th>president</th>\n",
       "      <th>prior</th>\n",
       "      <th>party</th>\n",
       "      <th>vice</th>\n",
       "    </tr>\n",
       "  </thead>\n",
       "  <tbody>\n",
       "    <tr>\n",
       "      <th>0</th>\n",
       "      <td>0</td>\n",
       "      <td>1</td>\n",
       "      <td>April 30, 1789</td>\n",
       "      <td>March 4, 1797</td>\n",
       "      <td>George Washington</td>\n",
       "      <td>Commander-in-Chief  of the  Continental Army  ...</td>\n",
       "      <td>Nonpartisan   [13]</td>\n",
       "      <td>John Adams</td>\n",
       "    </tr>\n",
       "    <tr>\n",
       "      <th>1</th>\n",
       "      <td>1</td>\n",
       "      <td>2</td>\n",
       "      <td>March 4, 1797</td>\n",
       "      <td>March 4, 1801</td>\n",
       "      <td>John Adams</td>\n",
       "      <td>1st  Vice President of the United States</td>\n",
       "      <td>Federalist</td>\n",
       "      <td>Thomas Jefferson</td>\n",
       "    </tr>\n",
       "    <tr>\n",
       "      <th>2</th>\n",
       "      <td>2</td>\n",
       "      <td>3</td>\n",
       "      <td>March 4, 1801</td>\n",
       "      <td>March 4, 1809</td>\n",
       "      <td>Thomas Jefferson</td>\n",
       "      <td>2nd  Vice President of the United States</td>\n",
       "      <td>Democratic-  Republican</td>\n",
       "      <td>Aaron Burr</td>\n",
       "    </tr>\n",
       "  </tbody>\n",
       "</table>\n",
       "</div>"
      ],
      "text/plain": [
       "   Unnamed: 0  S.No.           start            end          president  \\\n",
       "0           0      1  April 30, 1789  March 4, 1797  George Washington   \n",
       "1           1      2   March 4, 1797  March 4, 1801         John Adams   \n",
       "2           2      3   March 4, 1801  March 4, 1809   Thomas Jefferson   \n",
       "\n",
       "                                               prior                    party  \\\n",
       "0  Commander-in-Chief  of the  Continental Army  ...       Nonpartisan   [13]   \n",
       "1           1st  Vice President of the United States               Federalist   \n",
       "2           2nd  Vice President of the United States  Democratic-  Republican   \n",
       "\n",
       "               vice  \n",
       "0        John Adams  \n",
       "1  Thomas Jefferson  \n",
       "2        Aaron Burr  "
      ]
     },
     "execution_count": 22,
     "metadata": {},
     "output_type": "execute_result"
    }
   ],
   "source": [
    "presidentes_usa = pd.read_csv(r'C:\\Users\\Luciano\\Desktop\\Práctica coderhouse\\us_presidents2.csv')\n",
    "presidentes_usa.head(3)"
   ]
  },
  {
   "cell_type": "code",
   "execution_count": 23,
   "metadata": {},
   "outputs": [
    {
     "data": {
      "text/plain": [
       "0          George Washington\n",
       "1                 John Adams\n",
       "2           Thomas Jefferson\n",
       "3              James Madison\n",
       "4               James Monroe\n",
       "5          John Quincy Adams\n",
       "6             Andrew Jackson\n",
       "7           Martin Van Buren\n",
       "8     William Henry Harrison\n",
       "9                 John Tyler\n",
       "10             James K. Polk\n",
       "11            Zachary Taylor\n",
       "12          Millard Fillmore\n",
       "13           Franklin Pierce\n",
       "14            James Buchanan\n",
       "15           Abraham Lincoln\n",
       "16            Andrew Johnson\n",
       "17          Ulysses S. Grant\n",
       "18       Rutherford B. Hayes\n",
       "19         James A. Garfield\n",
       "20         Chester A. Arthur\n",
       "21          Grover Cleveland\n",
       "22         Benjamin Harrison\n",
       "23          Grover Cleveland\n",
       "24          William McKinley\n",
       "25        Theodore Roosevelt\n",
       "26       William Howard Taft\n",
       "27            Woodrow Wilson\n",
       "28         Warren G. Harding\n",
       "29           Calvin Coolidge\n",
       "30            Herbert Hoover\n",
       "31     Franklin D. Roosevelt\n",
       "32           Harry S. Truman\n",
       "33      Dwight D. Eisenhower\n",
       "34           John F. Kennedy\n",
       "35         Lyndon B. Johnson\n",
       "36             Richard Nixon\n",
       "37               Gerald Ford\n",
       "38              Jimmy Carter\n",
       "39             Ronald Reagan\n",
       "40         George H. W. Bush\n",
       "41              Bill Clinton\n",
       "42            George W. Bush\n",
       "43              Barack Obama\n",
       "44              Donald Trump\n",
       "Name: president, dtype: object"
      ]
     },
     "execution_count": 23,
     "metadata": {},
     "output_type": "execute_result"
    }
   ],
   "source": [
    "presidentes_names = pd.Series(presidentes_usa['president'])\n",
    "presidentes_names"
   ]
  },
  {
   "cell_type": "code",
   "execution_count": 24,
   "metadata": {},
   "outputs": [
    {
     "data": {
      "text/plain": [
       "0          GEORGE WASHINGTON\n",
       "1                 JOHN ADAMS\n",
       "2           THOMAS JEFFERSON\n",
       "3              JAMES MADISON\n",
       "4               JAMES MONROE\n",
       "5          JOHN QUINCY ADAMS\n",
       "6             ANDREW JACKSON\n",
       "7           MARTIN VAN BUREN\n",
       "8     WILLIAM HENRY HARRISON\n",
       "9                 JOHN TYLER\n",
       "10             JAMES K. POLK\n",
       "11            ZACHARY TAYLOR\n",
       "12          MILLARD FILLMORE\n",
       "13           FRANKLIN PIERCE\n",
       "14            JAMES BUCHANAN\n",
       "15           ABRAHAM LINCOLN\n",
       "16            ANDREW JOHNSON\n",
       "17          ULYSSES S. GRANT\n",
       "18       RUTHERFORD B. HAYES\n",
       "19         JAMES A. GARFIELD\n",
       "20         CHESTER A. ARTHUR\n",
       "21          GROVER CLEVELAND\n",
       "22         BENJAMIN HARRISON\n",
       "23          GROVER CLEVELAND\n",
       "24          WILLIAM MCKINLEY\n",
       "25        THEODORE ROOSEVELT\n",
       "26       WILLIAM HOWARD TAFT\n",
       "27            WOODROW WILSON\n",
       "28         WARREN G. HARDING\n",
       "29           CALVIN COOLIDGE\n",
       "30            HERBERT HOOVER\n",
       "31     FRANKLIN D. ROOSEVELT\n",
       "32           HARRY S. TRUMAN\n",
       "33      DWIGHT D. EISENHOWER\n",
       "34           JOHN F. KENNEDY\n",
       "35         LYNDON B. JOHNSON\n",
       "36             RICHARD NIXON\n",
       "37               GERALD FORD\n",
       "38              JIMMY CARTER\n",
       "39             RONALD REAGAN\n",
       "40         GEORGE H. W. BUSH\n",
       "41              BILL CLINTON\n",
       "42            GEORGE W. BUSH\n",
       "43              BARACK OBAMA\n",
       "44              DONALD TRUMP\n",
       "Name: president, dtype: object"
      ]
     },
     "execution_count": 24,
     "metadata": {},
     "output_type": "execute_result"
    }
   ],
   "source": [
    "presidentes_names.str.upper()"
   ]
  },
  {
   "cell_type": "code",
   "execution_count": 26,
   "metadata": {},
   "outputs": [
    {
     "data": {
      "text/plain": [
       "0     17\n",
       "1     10\n",
       "2     16\n",
       "3     13\n",
       "4     12\n",
       "5     17\n",
       "6     14\n",
       "7     16\n",
       "8     22\n",
       "9     10\n",
       "10    13\n",
       "11    14\n",
       "12    16\n",
       "13    15\n",
       "14    14\n",
       "15    15\n",
       "16    14\n",
       "17    16\n",
       "18    19\n",
       "19    17\n",
       "20    17\n",
       "21    16\n",
       "22    17\n",
       "23    16\n",
       "24    16\n",
       "25    18\n",
       "26    19\n",
       "27    14\n",
       "28    17\n",
       "29    15\n",
       "30    14\n",
       "31    21\n",
       "32    15\n",
       "33    20\n",
       "34    15\n",
       "35    17\n",
       "36    13\n",
       "37    11\n",
       "38    12\n",
       "39    13\n",
       "40    17\n",
       "41    12\n",
       "42    14\n",
       "43    12\n",
       "44    12\n",
       "Name: president, dtype: int64"
      ]
     },
     "execution_count": 26,
     "metadata": {},
     "output_type": "execute_result"
    }
   ],
   "source": [
    "presidentes_names.str.len()"
   ]
  },
  {
   "cell_type": "code",
   "execution_count": 27,
   "metadata": {},
   "outputs": [
    {
     "data": {
      "text/plain": [
       "0           [George, Washington]\n",
       "1                  [John, Adams]\n",
       "2            [Thomas, Jefferson]\n",
       "3               [James, Madison]\n",
       "4                [James, Monroe]\n",
       "5          [John, Quincy, Adams]\n",
       "6              [Andrew, Jackson]\n",
       "7           [Martin, Van, Buren]\n",
       "8     [William, Henry, Harrison]\n",
       "9                  [John, Tyler]\n",
       "10             [James, K., Polk]\n",
       "11             [Zachary, Taylor]\n",
       "12           [Millard, Fillmore]\n",
       "13            [Franklin, Pierce]\n",
       "14             [James, Buchanan]\n",
       "15            [Abraham, Lincoln]\n",
       "16             [Andrew, Johnson]\n",
       "17          [Ulysses, S., Grant]\n",
       "18       [Rutherford, B., Hayes]\n",
       "19         [James, A., Garfield]\n",
       "20         [Chester, A., Arthur]\n",
       "21           [Grover, Cleveland]\n",
       "22          [Benjamin, Harrison]\n",
       "23           [Grover, Cleveland]\n",
       "24           [William, McKinley]\n",
       "25         [Theodore, Roosevelt]\n",
       "26       [William, Howard, Taft]\n",
       "27             [Woodrow, Wilson]\n",
       "28         [Warren, G., Harding]\n",
       "29            [Calvin, Coolidge]\n",
       "30             [Herbert, Hoover]\n",
       "31     [Franklin, D., Roosevelt]\n",
       "32           [Harry, S., Truman]\n",
       "33      [Dwight, D., Eisenhower]\n",
       "34           [John, F., Kennedy]\n",
       "35         [Lyndon, B., Johnson]\n",
       "36              [Richard, Nixon]\n",
       "37                [Gerald, Ford]\n",
       "38               [Jimmy, Carter]\n",
       "39              [Ronald, Reagan]\n",
       "40        [George, H., W., Bush]\n",
       "41               [Bill, Clinton]\n",
       "42            [George, W., Bush]\n",
       "43               [Barack, Obama]\n",
       "44               [Donald, Trump]\n",
       "Name: president, dtype: object"
      ]
     },
     "execution_count": 27,
     "metadata": {},
     "output_type": "execute_result"
    }
   ],
   "source": [
    "presidentes_names.str.split()"
   ]
  },
  {
   "cell_type": "markdown",
   "metadata": {},
   "source": [
    "### Objetos de tiempo"
   ]
  },
  {
   "cell_type": "code",
   "execution_count": 34,
   "metadata": {},
   "outputs": [
    {
     "data": {
      "text/plain": [
       "Timestamp('2020-01-03 00:00:00')"
      ]
     },
     "execution_count": 34,
     "metadata": {},
     "output_type": "execute_result"
    }
   ],
   "source": [
    "fecha_inicio = pd.to_datetime('03/01/2020',dayfirst=True)\n",
    "fecha_fin = pd.to_datetime('10/01/2020',dayfirst=True)\n",
    "fecha_inicio"
   ]
  },
  {
   "cell_type": "code",
   "execution_count": 37,
   "metadata": {},
   "outputs": [
    {
     "data": {
      "text/plain": [
       "DatetimeIndex(['2020-01-03', '2020-01-04', '2020-01-05', '2020-01-06',\n",
       "               '2020-01-07', '2020-01-08', '2020-01-09', '2020-01-10'],\n",
       "              dtype='datetime64[ns]', freq='D')"
      ]
     },
     "execution_count": 37,
     "metadata": {},
     "output_type": "execute_result"
    }
   ],
   "source": [
    "rango_de_fechas = pd.date_range(start=fecha_inicio,end=fecha_fin)\n",
    "rango_de_fechas"
   ]
  },
  {
   "cell_type": "code",
   "execution_count": 39,
   "metadata": {},
   "outputs": [
    {
     "data": {
      "text/plain": [
       "DatetimeIndex(['2020-01-03', '2020-01-04', '2020-01-05', '2020-01-06',\n",
       "               '2020-01-07', '2020-01-08', '2020-01-09', '2020-01-10'],\n",
       "              dtype='datetime64[ns]', freq='D')"
      ]
     },
     "execution_count": 39,
     "metadata": {},
     "output_type": "execute_result"
    }
   ],
   "source": [
    "periodo_fechas_dia = pd.date_range(start=fecha, periods=8) #8 períodos a partir de la fecha inicial un día por vez\n",
    "periodo_fechas_dia"
   ]
  },
  {
   "cell_type": "code",
   "execution_count": 49,
   "metadata": {},
   "outputs": [
    {
     "data": {
      "text/plain": [
       "DatetimeIndex(['2020-01-31', '2020-02-29', '2020-03-31', '2020-04-30',\n",
       "               '2020-05-31', '2020-06-30', '2020-07-31', '2020-08-31'],\n",
       "              dtype='datetime64[ns]', freq='M')"
      ]
     },
     "execution_count": 49,
     "metadata": {},
     "output_type": "execute_result"
    }
   ],
   "source": [
    "rango_fechas_mes = pd.date_range(start=fecha, periods=8, freq='M') #8 períodos a partir de la fecha inicial un mes por vez\n",
    "rango_fechas_mes"
   ]
  },
  {
   "cell_type": "code",
   "execution_count": 43,
   "metadata": {},
   "outputs": [
    {
     "data": {
      "text/plain": [
       "'2020-01'"
      ]
     },
     "execution_count": 43,
     "metadata": {},
     "output_type": "execute_result"
    }
   ],
   "source": [
    "mes_inicio = fecha_inicio.strftime('%Y-%m') # 8 meses consecutivos a partir del mes de inicio\n",
    "mes_inicio"
   ]
  },
  {
   "cell_type": "code",
   "execution_count": 46,
   "metadata": {},
   "outputs": [
    {
     "data": {
      "text/plain": [
       "PeriodIndex(['2020-01', '2020-02', '2020-03', '2020-04', '2020-05', '2020-06',\n",
       "             '2020-07', '2020-08'],\n",
       "            dtype='period[M]', freq='M')"
      ]
     },
     "execution_count": 46,
     "metadata": {},
     "output_type": "execute_result"
    }
   ],
   "source": [
    "periodo_fechas_mes = pd.period_range(start=mes_inicio, periods=8, freq='M') #8 períodos a partir de mes_inicio un mes por vez\n",
    "periodo_fechas_mes"
   ]
  },
  {
   "cell_type": "code",
   "execution_count": 50,
   "metadata": {},
   "outputs": [
    {
     "data": {
      "text/plain": [
       "Timedelta('213 days 00:00:00')"
      ]
     },
     "execution_count": 50,
     "metadata": {},
     "output_type": "execute_result"
    }
   ],
   "source": [
    "delta_tiempo = rango_fechas_mes[7] - rango_fechas_mes[0]\n",
    "delta_tiempo"
   ]
  },
  {
   "cell_type": "code",
   "execution_count": 51,
   "metadata": {},
   "outputs": [
    {
     "data": {
      "text/plain": [
       "<7 * MonthEnds>"
      ]
     },
     "execution_count": 51,
     "metadata": {},
     "output_type": "execute_result"
    }
   ],
   "source": [
    "delta_tiempo_2 = periodo_fechas_mes[7] - periodo_fechas_mes[0]\n",
    "delta_tiempo_2"
   ]
  },
  {
   "cell_type": "code",
   "execution_count": 54,
   "metadata": {},
   "outputs": [
    {
     "data": {
      "text/plain": [
       "0         April 30, 1789\n",
       "1          March 4, 1797\n",
       "2          March 4, 1801\n",
       "3          March 4, 1809\n",
       "4          March 4, 1817\n",
       "5          March 4, 1825\n",
       "6          March 4, 1829\n",
       "7          March 4, 1837\n",
       "8          March 4, 1841\n",
       "9          April 4, 1841\n",
       "10         March 4, 1845\n",
       "11         March 4, 1849\n",
       "12          July 9, 1850\n",
       "13         March 4, 1853\n",
       "14         March 4, 1857\n",
       "15         March 4, 1861\n",
       "16        April 15, 1865\n",
       "17         March 4, 1869\n",
       "18         March 4, 1877\n",
       "19         March 4, 1881\n",
       "20    September 19, 1881\n",
       "21         March 4, 1885\n",
       "22         March 4, 1889\n",
       "23         March 4, 1893\n",
       "24         March 4, 1897\n",
       "25    September 14, 1901\n",
       "26         March 4, 1909\n",
       "27         March 4, 1913\n",
       "28         March 4, 1921\n",
       "29        August 2, 1923\n",
       "30         March 4, 1929\n",
       "31         March 4, 1933\n",
       "32        April 12, 1945\n",
       "33      January 20, 1953\n",
       "34      January 20, 1961\n",
       "35     November 22, 1963\n",
       "36      January 20, 1969\n",
       "37        August 9, 1974\n",
       "38      January 20, 1977\n",
       "39      January 20, 1981\n",
       "40      January 20, 1989\n",
       "41      January 20, 1993\n",
       "42      January 20, 2001\n",
       "43      January 20, 2009\n",
       "44      January 20, 2017\n",
       "Name: start, dtype: object"
      ]
     },
     "execution_count": 54,
     "metadata": {},
     "output_type": "execute_result"
    }
   ],
   "source": [
    "date_time_index_presidentes = presidentes_usa['start']\n",
    "date_time_index_presidentes"
   ]
  },
  {
   "cell_type": "code",
   "execution_count": 55,
   "metadata": {},
   "outputs": [
    {
     "data": {
      "text/plain": [
       "DatetimeIndex(['1789-04-30', '1797-03-04', '1801-03-04', '1809-03-04',\n",
       "               '1817-03-04', '1825-03-04', '1829-03-04', '1837-03-04',\n",
       "               '1841-03-04', '1841-04-04', '1845-03-04', '1849-03-04',\n",
       "               '1850-07-09', '1853-03-04', '1857-03-04', '1861-03-04',\n",
       "               '1865-04-15', '1869-03-04', '1877-03-04', '1881-03-04',\n",
       "               '1881-09-19', '1885-03-04', '1889-03-04', '1893-03-04',\n",
       "               '1897-03-04', '1901-09-14', '1909-03-04', '1913-03-04',\n",
       "               '1921-03-04', '1923-08-02', '1929-03-04', '1933-03-04',\n",
       "               '1945-04-12', '1953-01-20', '1961-01-20', '1963-11-22',\n",
       "               '1969-01-20', '1974-08-09', '1977-01-20', '1981-01-20',\n",
       "               '1989-01-20', '1993-01-20', '2001-01-20', '2009-01-20',\n",
       "               '2017-01-20'],\n",
       "              dtype='datetime64[ns]', name='start', freq=None)"
      ]
     },
     "execution_count": 55,
     "metadata": {},
     "output_type": "execute_result"
    }
   ],
   "source": [
    "fechas_presidentes = pd.DatetimeIndex(date_time_index_presidentes)\n",
    "fechas_presidentes"
   ]
  }
 ],
 "metadata": {
  "kernelspec": {
   "display_name": "Python 3",
   "language": "python",
   "name": "python3"
  },
  "language_info": {
   "codemirror_mode": {
    "name": "ipython",
    "version": 3
   },
   "file_extension": ".py",
   "mimetype": "text/x-python",
   "name": "python",
   "nbconvert_exporter": "python",
   "pygments_lexer": "ipython3",
   "version": "3.8.5"
  }
 },
 "nbformat": 4,
 "nbformat_minor": 4
}
